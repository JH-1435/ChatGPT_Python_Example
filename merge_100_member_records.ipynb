{
  "nbformat": 4,
  "nbformat_minor": 0,
  "metadata": {
    "colab": {
      "provenance": [],
      "authorship_tag": "ABX9TyPkbALTWWJ7k+EUtyYEvVQj",
      "include_colab_link": true
    },
    "kernelspec": {
      "name": "python3",
      "display_name": "Python 3"
    },
    "language_info": {
      "name": "python"
    }
  },
  "cells": [
    {
      "cell_type": "markdown",
      "metadata": {
        "id": "view-in-github",
        "colab_type": "text"
      },
      "source": [
        "<a href=\"https://colab.research.google.com/github/JH-1435/ChatGPT_Python_Example/blob/master/merge_100_member_records.ipynb\" target=\"_parent\"><img src=\"https://colab.research.google.com/assets/colab-badge.svg\" alt=\"Open In Colab\"/></a>"
      ]
    },
    {
      "cell_type": "code",
      "execution_count": null,
      "metadata": {
        "colab": {
          "base_uri": "https://localhost:8080/"
        },
        "id": "vmhHJMXMPFjP",
        "outputId": "b9a8156a-4f9b-49d9-88c5-ca37fa6095ef"
      },
      "outputs": [
        {
          "output_type": "stream",
          "name": "stdout",
          "text": [
            "100개의 회원 정보 파일이 생성되었습니다.\n"
          ]
        }
      ],
      "source": [
        "import os\n",
        "import random\n",
        "\n",
        "# 한글 성과 이름 리스트\n",
        "last_names = [\"김\", \"이\", \"박\", \"최\", \"정\", \"강\", \"조\", \"윤\", \"장\", \"임\"]\n",
        "first_names = [\"민수\", \"지훈\", \"서연\", \"현우\", \"예린\", \"도윤\", \"수빈\", \"하준\", \"유진\", \"지호\"]\n",
        "\n",
        "# 저장할 폴더명\n",
        "folder_name = \"회원정보\"\n",
        "\n",
        "# 폴더가 없으면 생성\n",
        "if not os.path.exists(folder_name):\n",
        "    os.makedirs(folder_name)\n",
        "\n",
        "# 성별 랜덤 선택 함수\n",
        "def random_gender():\n",
        "    return random.choice([\"남성\", \"여성\"])\n",
        "\n",
        "# 나이 랜덤 생성 함수\n",
        "def random_age():\n",
        "    return random.randint(18, 80)\n",
        "\n",
        "# 이메일 생성 함수\n",
        "def generate_email(name):\n",
        "    domains = [\"gmail.com\", \"naver.com\", \"daum.net\", \"hotmail.com\"]\n",
        "    return f\"{name.lower()}_{random.randint(100, 999)}@{random.choice(domains)}\"\n",
        "\n",
        "# 100개의 임의의 한글 이름 생성 및 파일 저장\n",
        "for i in range(1, 101):\n",
        "    name = random.choice(last_names) + random.choice(first_names)\n",
        "    age = random_age()\n",
        "    gender = random_gender()\n",
        "    email = generate_email(name.replace(\" \", \"\"))\n",
        "\n",
        "    file_name = f\"{folder_name}/임의의_{name}_{i}.txt\"\n",
        "\n",
        "    with open(file_name, \"w\", encoding=\"utf-8\") as f:\n",
        "        f.write(f\"이름: {name}\\n\")\n",
        "        f.write(f\"나이: {age}\\n\")\n",
        "        f.write(f\"성별: {gender}\\n\")\n",
        "        f.write(f\"이메일: {email}\\n\")\n",
        "\n",
        "print(\"100개의 회원 정보 파일이 생성되었습니다.\")\n"
      ]
    },
    {
      "cell_type": "code",
      "source": [],
      "metadata": {
        "id": "TQJ_CNcqCYBX"
      },
      "execution_count": null,
      "outputs": []
    },
    {
      "cell_type": "code",
      "source": [
        "import os\n",
        "import random\n",
        "import csv\n",
        "\n",
        "# 한글 성과 이름 리스트\n",
        "last_names = [\"김\", \"이\", \"박\", \"최\", \"정\", \"강\", \"조\", \"윤\", \"장\", \"임\"]\n",
        "first_names = [\"민수\", \"지훈\", \"서연\", \"현우\", \"예린\", \"도윤\", \"수빈\", \"하준\", \"유진\", \"지호\"]\n",
        "\n",
        "# 저장할 폴더명\n",
        "folder_name = \"회원정보\"\n",
        "\n",
        "# 폴더가 없으면 생성\n",
        "if not os.path.exists(folder_name):\n",
        "    os.makedirs(folder_name)\n",
        "\n",
        "# 성별 랜덤 선택 함수\n",
        "def random_gender():\n",
        "    return random.choice([\"남성\", \"여성\"])\n",
        "\n",
        "# 나이 랜덤 생성 함수\n",
        "def random_age():\n",
        "    return random.randint(18, 80)\n",
        "\n",
        "# 이메일 생성 함수\n",
        "def generate_email(name):\n",
        "    domains = [\"gmail.com\", \"naver.com\", \"daum.net\", \"hotmail.com\"]\n",
        "    return f\"{name.lower()}_{random.randint(100, 999)}@{random.choice(domains)}\"\n",
        "\n",
        "# 100개의 임의의 한글 이름 생성 및 파일 저장\n",
        "for i in range(1, 101):\n",
        "    name = random.choice(last_names) + random.choice(first_names)\n",
        "    age = random_age()\n",
        "    gender = random_gender()\n",
        "    email = generate_email(name.replace(\" \", \"\"))\n",
        "\n",
        "    file_name = f\"{folder_name}/임의의_{name}_{i}.txt\"\n",
        "\n",
        "    with open(file_name, \"w\", encoding=\"utf-8\") as f:\n",
        "        f.write(f\"이름: {name}\\n\")\n",
        "        f.write(f\"나이: {age}\\n\")\n",
        "        f.write(f\"성별: {gender}\\n\")\n",
        "        f.write(f\"이메일: {email}\\n\")\n",
        "\n",
        "print(\"100개의 회원 정보 파일이 생성되었습니다.\")\n",
        "\n",
        "# TXT 파일을 엑셀(csv)로 변환\n",
        "csv_file = \"회원정보_통합.csv\"\n",
        "with open(csv_file, \"w\", newline=\"\", encoding=\"utf-8-sig\") as csvfile:\n",
        "    writer = csv.writer(csvfile)\n",
        "    writer.writerow([\"이름\", \"나이\", \"성별\", \"이메일\"])\n",
        "\n",
        "    for filename in os.listdir(folder_name):\n",
        "        if filename.endswith(\".txt\"):\n",
        "            with open(os.path.join(folder_name, filename), \"r\", encoding=\"utf-8\") as f:\n",
        "                lines = f.readlines()\n",
        "                name = lines[0].strip().split(\": \")[1]\n",
        "                age = lines[1].strip().split(\": \")[1]\n",
        "                gender = lines[2].strip().split(\": \")[1]\n",
        "                email = lines[3].strip().split(\": \")[1]\n",
        "                writer.writerow([name, age, gender, email])\n",
        "\n",
        "print(\"회원 정보가 csv 파일로 저장되었습니다.\")\n"
      ],
      "metadata": {
        "id": "XqnN75HPPN_m",
        "colab": {
          "base_uri": "https://localhost:8080/"
        },
        "outputId": "da19830f-3b1c-42dd-9d26-01dd093e8e30"
      },
      "execution_count": null,
      "outputs": [
        {
          "output_type": "stream",
          "name": "stdout",
          "text": [
            "100개의 회원 정보 파일이 생성되었습니다.\n",
            "회원 정보가 csv 파일로 저장되었습니다.\n"
          ]
        }
      ]
    },
    {
      "cell_type": "code",
      "source": [
        "import shutil\n",
        "\n",
        "folder_name = \"회원정보\"  # 삭제할 폴더명\n",
        "\n",
        "# 폴더와 내부 모든 파일 삭제\n",
        "shutil.rmtree(folder_name)\n",
        "\n",
        "print(f\"폴더 '{folder_name}' 및 내부 파일이 모두 삭제되었습니다.\")\n"
      ],
      "metadata": {
        "colab": {
          "base_uri": "https://localhost:8080/"
        },
        "id": "KQB0VOmQFIq2",
        "outputId": "bdc4645e-ffd5-4a7e-d70d-0575e245b9c3"
      },
      "execution_count": null,
      "outputs": [
        {
          "output_type": "stream",
          "name": "stdout",
          "text": [
            "폴더 '회원정보' 및 내부 파일이 모두 삭제되었습니다.\n"
          ]
        }
      ]
    },
    {
      "cell_type": "code",
      "source": [],
      "metadata": {
        "id": "Plt-1o90FJXX"
      },
      "execution_count": null,
      "outputs": []
    }
  ]
}