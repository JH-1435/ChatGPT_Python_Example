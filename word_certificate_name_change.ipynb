{
  "nbformat": 4,
  "nbformat_minor": 0,
  "metadata": {
    "colab": {
      "provenance": [],
      "authorship_tag": "ABX9TyOGbgmoI91ePYJyzhE/URju",
      "include_colab_link": true
    },
    "kernelspec": {
      "name": "python3",
      "display_name": "Python 3"
    },
    "language_info": {
      "name": "python"
    }
  },
  "cells": [
    {
      "cell_type": "markdown",
      "metadata": {
        "id": "view-in-github",
        "colab_type": "text"
      },
      "source": [
        "<a href=\"https://colab.research.google.com/github/JH-1435/ChatGPT_Python_Example/blob/master/word_certificate_name_change.ipynb\" target=\"_parent\"><img src=\"https://colab.research.google.com/assets/colab-badge.svg\" alt=\"Open In Colab\"/></a>"
      ]
    },
    {
      "cell_type": "code",
      "source": [
        "pip install python-docx"
      ],
      "metadata": {
        "colab": {
          "base_uri": "https://localhost:8080/"
        },
        "id": "el9aAt5U7m-L",
        "outputId": "c28a9072-0873-4ac3-f694-dd5a3737077d"
      },
      "execution_count": null,
      "outputs": [
        {
          "output_type": "stream",
          "name": "stdout",
          "text": [
            "Collecting python-docx\n",
            "  Downloading python_docx-1.1.2-py3-none-any.whl.metadata (2.0 kB)\n",
            "Requirement already satisfied: lxml>=3.1.0 in /usr/local/lib/python3.11/dist-packages (from python-docx) (5.3.0)\n",
            "Requirement already satisfied: typing-extensions>=4.9.0 in /usr/local/lib/python3.11/dist-packages (from python-docx) (4.12.2)\n",
            "Downloading python_docx-1.1.2-py3-none-any.whl (244 kB)\n",
            "\u001b[?25l   \u001b[90m━━━━━━━━━━━━━━━━━━━━━━━━━━━━━━━━━━━━━━━━\u001b[0m \u001b[32m0.0/244.3 kB\u001b[0m \u001b[31m?\u001b[0m eta \u001b[36m-:--:--\u001b[0m\r\u001b[2K   \u001b[91m━━━━━━━━━━━━━━━━━━━━━━━━━━━━━━━━━━━━━━\u001b[0m\u001b[91m╸\u001b[0m\u001b[90m━\u001b[0m \u001b[32m235.5/244.3 kB\u001b[0m \u001b[31m7.4 MB/s\u001b[0m eta \u001b[36m0:00:01\u001b[0m\r\u001b[2K   \u001b[90m━━━━━━━━━━━━━━━━━━━━━━━━━━━━━━━━━━━━━━━━\u001b[0m \u001b[32m244.3/244.3 kB\u001b[0m \u001b[31m5.3 MB/s\u001b[0m eta \u001b[36m0:00:00\u001b[0m\n",
            "\u001b[?25hInstalling collected packages: python-docx\n",
            "Successfully installed python-docx-1.1.2\n"
          ]
        }
      ]
    },
    {
      "cell_type": "code",
      "execution_count": null,
      "metadata": {
        "id": "Z8VN32m26-GE",
        "colab": {
          "base_uri": "https://localhost:8080/"
        },
        "outputId": "cad487ce-a2c4-4dee-9c29-7213f2d2f56a"
      },
      "outputs": [
        {
          "output_type": "stream",
          "name": "stdout",
          "text": [
            "수료증 파일이 순차적으로 생성되었습니다.\n"
          ]
        }
      ],
      "source": [
        "from docx import Document\n",
        "\n",
        "# people_list.txt 파일에서 이름 읽기\n",
        "def read_names_from_file(file_path):\n",
        "    with open(file_path, 'r', encoding='utf-8') as file:\n",
        "        names = file.readlines()\n",
        "    return [name.strip() for name in names]  # 공백 제거 후 리스트로 반환\n",
        "\n",
        "# 워드 파일 열기\n",
        "doc = Document('certificate_smaple.docx')\n",
        "\n",
        "# people_list.txt에서 이름 리스트 읽기\n",
        "people_names = read_names_from_file('people_list.txt')\n",
        "\n",
        "# 각 이름에 대해 '홍길동'을 해당 이름으로 교체하고, 새로운 파일로 저장\n",
        "for idx, name in enumerate(people_names, 1):\n",
        "    # 워드 파일을 새로 로드해야 원본을 계속 유지할 수 있음\n",
        "    doc = Document('certificate_smaple.docx')\n",
        "\n",
        "    # 새로운 이름으로 교체\n",
        "    for paragraph in doc.paragraphs:\n",
        "        for run in paragraph.runs:\n",
        "            if '홍길동' in run.text:  # 텍스트가 '홍길동'인 경우에만 교체\n",
        "                run.text = run.text.replace('홍길동', name)  # 텍스트 교체\n",
        "\n",
        "    # 순차적인 번호와 이름을 붙여서 파일 저장: {순서}.{사람이름}_수료증.docx\n",
        "    new_file_name = f\"{idx}.{name}_수료증.docx\"\n",
        "    doc.save(new_file_name)\n",
        "\n",
        "print(\"수료증 파일이 순차적으로 생성되었습니다.\")\n"
      ]
    },
    {
      "cell_type": "code",
      "source": [
        "import os\n",
        "import zipfile\n",
        "\n",
        "# 현재 폴더에서 *.docx 파일 목록 찾기\n",
        "docx_files = [f for f in os.listdir() if f.endswith('.docx')]\n",
        "\n",
        "# ZIP 파일로 압축\n",
        "zip_filename = 'finalResult_docx_files.zip'  # 압축할 파일 이름\n",
        "\n",
        "# ZIP 파일을 생성하고 docx 파일을 추가\n",
        "with zipfile.ZipFile(zip_filename, 'w', zipfile.ZIP_DEFLATED) as zipf:\n",
        "    for docx_file in docx_files:\n",
        "        zipf.write(docx_file, os.path.basename(docx_file))  # 파일 이름만 넣어줍니다\n",
        "\n",
        "print(f\"'{zip_filename}' 파일이 생성되었습니다.\")\n"
      ],
      "metadata": {
        "id": "dM_BwZeu7p1h",
        "colab": {
          "base_uri": "https://localhost:8080/"
        },
        "outputId": "5d4d5095-bcb8-4693-8a47-5144d9fd7f71"
      },
      "execution_count": null,
      "outputs": [
        {
          "output_type": "stream",
          "name": "stdout",
          "text": [
            "'finalResult_docx_files.zip' 파일이 생성되었습니다.\n"
          ]
        }
      ]
    },
    {
      "cell_type": "code",
      "source": [],
      "metadata": {
        "id": "fPqCmLaFASMN"
      },
      "execution_count": null,
      "outputs": []
    }
  ]
}