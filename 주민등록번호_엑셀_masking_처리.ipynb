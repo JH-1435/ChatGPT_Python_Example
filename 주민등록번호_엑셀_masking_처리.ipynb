{
  "nbformat": 4,
  "nbformat_minor": 0,
  "metadata": {
    "colab": {
      "provenance": [],
      "authorship_tag": "ABX9TyPE1WBaeZfHbwEfZLQEinpg",
      "include_colab_link": true
    },
    "kernelspec": {
      "name": "python3",
      "display_name": "Python 3"
    },
    "language_info": {
      "name": "python"
    }
  },
  "cells": [
    {
      "cell_type": "markdown",
      "metadata": {
        "id": "view-in-github",
        "colab_type": "text"
      },
      "source": [
        "<a href=\"https://colab.research.google.com/github/JH-1435/ChatGPT_Python_Example/blob/master/%EC%A3%BC%EB%AF%BC%EB%93%B1%EB%A1%9D%EB%B2%88%ED%98%B8_%EC%97%91%EC%85%80_masking_%EC%B2%98%EB%A6%AC.ipynb\" target=\"_parent\"><img src=\"https://colab.research.google.com/assets/colab-badge.svg\" alt=\"Open In Colab\"/></a>"
      ]
    },
    {
      "cell_type": "code",
      "execution_count": null,
      "metadata": {
        "colab": {
          "base_uri": "https://localhost:8080/"
        },
        "id": "9qhLAs7_vpc7",
        "outputId": "401728e9-f8b8-4a66-86fe-84d4f699f909"
      },
      "outputs": [
        {
          "output_type": "stream",
          "name": "stdout",
          "text": [
            "Collecting faker\n",
            "  Downloading Faker-36.1.1-py3-none-any.whl.metadata (15 kB)\n",
            "Requirement already satisfied: tzdata in /usr/local/lib/python3.11/dist-packages (from faker) (2025.1)\n",
            "Downloading Faker-36.1.1-py3-none-any.whl (1.9 MB)\n",
            "\u001b[2K   \u001b[90m━━━━━━━━━━━━━━━━━━━━━━━━━━━━━━━━━━━━━━━━\u001b[0m \u001b[32m1.9/1.9 MB\u001b[0m \u001b[31m20.6 MB/s\u001b[0m eta \u001b[36m0:00:00\u001b[0m\n",
            "\u001b[?25hInstalling collected packages: faker\n",
            "Successfully installed faker-36.1.1\n"
          ]
        }
      ],
      "source": [
        "!pip install faker\n"
      ]
    },
    {
      "cell_type": "code",
      "source": [
        "import pandas as pd\n",
        "import random\n",
        "from faker import Faker\n",
        "\n",
        "# Faker 객체 생성\n",
        "fake = Faker(\"ko_KR\")\n",
        "\n",
        "# 임의의 한글 이름 생성 (예시: 100명의 이름 생성)\n",
        "names = [fake.name() for _ in range(100)]\n",
        "\n",
        "# 주민등록번호 생성 함수\n",
        "def generate_jumin():\n",
        "    year = random.randint(1900, 2023)  # 출생년도\n",
        "    month = random.randint(1, 12)  # 출생월\n",
        "    day = random.randint(1, 31)  # 출생일\n",
        "    gender = random.choice([1, 2])  # 1: 남성, 2: 여성\n",
        "    unique_number = random.randint(100000, 999999)  # 주민등록번호 뒤 6자리\n",
        "    # 예: 1900-01-01 생일, 남성, 고유번호 123456 => 19000101-123456\n",
        "    jumin = f\"{year:04}{month:02}{day:02}-{gender}{unique_number:06}\"\n",
        "    return jumin\n",
        "\n",
        "# 임의의 주민등록번호 생성 (예시: 100개)\n",
        "jumin_numbers = [generate_jumin() for _ in range(100)]\n",
        "\n",
        "# DataFrame 생성\n",
        "df = pd.DataFrame({\n",
        "    '이름': names,\n",
        "    '주민등록번호': jumin_numbers\n",
        "})\n",
        "\n",
        "# 엑셀 파일로 저장\n",
        "df.to_excel('회원정보.xlsx', index=False, sheet_name='회원정보')\n",
        "\n",
        "print(\"회원정보.xlsx 파일이 생성되었습니다.\")\n"
      ],
      "metadata": {
        "colab": {
          "base_uri": "https://localhost:8080/"
        },
        "id": "nougpsghv0dt",
        "outputId": "cf12d0a6-9af0-4e11-89bd-38a5af0ea14e"
      },
      "execution_count": null,
      "outputs": [
        {
          "output_type": "stream",
          "name": "stdout",
          "text": [
            "회원정보.xlsx 파일이 생성되었습니다.\n"
          ]
        }
      ]
    },
    {
      "cell_type": "code",
      "source": [
        "import pandas as pd\n",
        "\n",
        "# 엑셀 파일에서 데이터 읽기\n",
        "df = pd.read_excel('회원정보.xlsx', sheet_name='회원정보')\n",
        "\n",
        "# 주민등록번호 마스킹 처리 함수\n",
        "def mask_jumin(jumin):\n",
        "    return jumin[:8] + '-' + '*******'\n",
        "\n",
        "# B열의 주민등록번호 마스킹 처리\n",
        "df['주민등록번호'] = df['주민등록번호'].apply(mask_jumin)\n",
        "\n",
        "# 결과를 새로운 엑셀 파일로 저장\n",
        "df.to_excel('회원정보_masking.xlsx', index=False, sheet_name='회원정보')\n",
        "\n",
        "print(\"회원정보_masking.xlsx 파일이 생성되었습니다.\")\n"
      ],
      "metadata": {
        "id": "OWVElQ-OxMkH",
        "outputId": "afa53ac1-84e6-449a-e992-3d82fbde893c",
        "colab": {
          "base_uri": "https://localhost:8080/"
        }
      },
      "execution_count": null,
      "outputs": [
        {
          "output_type": "stream",
          "name": "stdout",
          "text": [
            "회원정보_masking.xlsx 파일이 생성되었습니다.\n"
          ]
        }
      ]
    },
    {
      "cell_type": "code",
      "source": [],
      "metadata": {
        "id": "wAl_TSCixNJH"
      },
      "execution_count": null,
      "outputs": []
    }
  ]
}