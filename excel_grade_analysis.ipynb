{
  "nbformat": 4,
  "nbformat_minor": 0,
  "metadata": {
    "colab": {
      "provenance": [],
      "authorship_tag": "ABX9TyOGchpzXruv8iiBgb1uKP2A",
      "include_colab_link": true
    },
    "kernelspec": {
      "name": "python3",
      "display_name": "Python 3"
    },
    "language_info": {
      "name": "python"
    }
  },
  "cells": [
    {
      "cell_type": "markdown",
      "metadata": {
        "id": "view-in-github",
        "colab_type": "text"
      },
      "source": [
        "<a href=\"https://colab.research.google.com/github/JH-1435/ChatGPT_Python_Example/blob/master/excel_grade_analysis.ipynb\" target=\"_parent\"><img src=\"https://colab.research.google.com/assets/colab-badge.svg\" alt=\"Open In Colab\"/></a>"
      ]
    },
    {
      "cell_type": "code",
      "execution_count": null,
      "metadata": {
        "colab": {
          "base_uri": "https://localhost:8080/"
        },
        "id": "EdffsTkFdOQP",
        "outputId": "1deced8d-1b5e-471a-98b6-a2ebee9c9631"
      },
      "outputs": [
        {
          "output_type": "stream",
          "name": "stdout",
          "text": [
            "학생 성적 엑셀 파일 생성 완료!\n"
          ]
        }
      ],
      "source": [
        "import pandas as pd\n",
        "import random\n",
        "\n",
        "# 파일명 설정\n",
        "filename = \"학생성적.xlsx\"\n",
        "\n",
        "# 헤더 및 데이터 생성\n",
        "header = [\"반\", \"이름\", \"국어\", \"영어\", \"수학\"]\n",
        "names = [\"김철수\", \"김민지\", \"강수지\", \"이연희\", \"홍길동\", \"박영희\", \"최준혁\", \"이서연\", \"정우성\", \"한가인\"]\n",
        "data = []\n",
        "\n",
        "for _ in range(100):\n",
        "    grade = random.randint(0, 10)  # 반 (0~10)\n",
        "    name = random.choice(names)  # 랜덤 이름\n",
        "    korean = random.randint(0, 100)  # 국어 성적\n",
        "    english = random.randint(0, 100)  # 영어 성적\n",
        "    math = random.randint(0, 100)  # 수학 성적\n",
        "    data.append([grade, name, korean, english, math])\n",
        "\n",
        "# 데이터프레임 생성 및 엑셀 저장\n",
        "df = pd.DataFrame(data, columns=header)\n",
        "df.to_excel(filename, index=False)\n",
        "\n",
        "print(\"학생 성적 엑셀 파일 생성 완료!\")\n"
      ]
    },
    {
      "cell_type": "code",
      "source": [
        "import pandas as pd\n",
        "import random\n",
        "\n",
        "# 파일명 설정\n",
        "filename = \"학생성적_등수.xlsx\"\n",
        "\n",
        "# 헤더 및 데이터 생성\n",
        "header = [\"반\", \"이름\", \"국어\", \"영어\", \"수학\", \"총합\", \"전교등수\"]\n",
        "names = [\"김철수\", \"김민지\", \"강수지\", \"이연희\", \"홍길동\", \"박영희\", \"최준혁\", \"이서연\", \"정우성\", \"한가인\"]\n",
        "data = []\n",
        "\n",
        "for _ in range(100):\n",
        "    grade = random.randint(0, 10)  # 반 (0~10)\n",
        "    name = random.choice(names)  # 랜덤 이름\n",
        "    korean = random.randint(0, 100)  # 국어 성적\n",
        "    english = random.randint(0, 100)  # 영어 성적\n",
        "    math = random.randint(0, 100)  # 수학 성적\n",
        "    total = korean + english + math  # 총합 계산\n",
        "    data.append([grade, name, korean, english, math, total, 0])  # 전교등수 초기값 0\n",
        "\n",
        "# 데이터프레임 생성\n",
        "df = pd.DataFrame(data, columns=header)\n",
        "\n",
        "# 전교 등수 계산 및 정렬\n",
        "df[\"전교등수\"] = df[\"총합\"].rank(method=\"min\", ascending=False).astype(int)\n",
        "df = df.sort_values(by=\"전교등수\")\n",
        "\n",
        "# 엑셀 저장\n",
        "df.to_excel(filename, index=False)\n",
        "\n",
        "print(\"학생 성적 등수 엑셀 파일 생성 완료!\")\n"
      ],
      "metadata": {
        "colab": {
          "base_uri": "https://localhost:8080/"
        },
        "id": "MkkJ6rARdRXw",
        "outputId": "1e51be23-aa0b-479d-beb3-f1c5ec98a405"
      },
      "execution_count": null,
      "outputs": [
        {
          "output_type": "stream",
          "name": "stdout",
          "text": [
            "학생 성적 등수 엑셀 파일 생성 완료!\n"
          ]
        }
      ]
    },
    {
      "cell_type": "code",
      "source": [
        "import pandas as pd\n",
        "\n",
        "# 엑셀 파일에서 데이터 읽기\n",
        "df = pd.read_excel('학생성적_등수.xlsx', sheet_name='Sheet1')\n",
        "\n",
        "# 전교 등수 계산\n",
        "df[\"전교등수\"] = df[\"총합\"].rank(method=\"min\", ascending=False).astype(int)\n",
        "df = df.sort_values(by=\"전교등수\")\n",
        "\n",
        "# 각 과목에서 최저 및 최고 성적 찾기\n",
        "min_korean_score = df[\"국어\"].min()  # 국어 최저 점수\n",
        "max_korean_score = df[\"국어\"].max()  # 국어 최고 점수\n",
        "\n",
        "min_english_score = df[\"영어\"].min()  # 영어 최저 점수\n",
        "max_english_score = df[\"영어\"].max()  # 영어 최고 점수\n",
        "\n",
        "min_math_score = df[\"수학\"].min()  # 수학 최저 점수\n",
        "max_math_score = df[\"수학\"].max()  # 수학 최고 점수\n",
        "\n",
        "# 중복된 학생들 찾기 (isin() 사용)\n",
        "min_korean_students = df[df[\"국어\"].isin([min_korean_score])]\n",
        "max_korean_students = df[df[\"국어\"].isin([max_korean_score])]\n",
        "\n",
        "min_english_students = df[df[\"영어\"].isin([min_english_score])]\n",
        "max_english_students = df[df[\"영어\"].isin([max_english_score])]\n",
        "\n",
        "min_math_students = df[df[\"수학\"].isin([min_math_score])]\n",
        "max_math_students = df[df[\"수학\"].isin([max_math_score])]\n",
        "\n",
        "# 과목별 평균 계산\n",
        "avg_korean = df[\"국어\"].mean()\n",
        "avg_english = df[\"영어\"].mean()\n",
        "avg_math = df[\"수학\"].mean()\n",
        "\n",
        "# 과목별 평균 출력\n",
        "print(f\"국어 평균 성적: {avg_korean:.2f}점\")\n",
        "print(f\"영어 평균 성적: {avg_english:.2f}점\")\n",
        "print(f\"수학 평균 성적: {avg_math:.2f}점\")\n",
        "\n",
        "# 국어 최저 및 최고 성적 학생들 출력\n",
        "print(f\"\\n국어 최저 성적 학생들:\")\n",
        "for _, student in min_korean_students.iterrows():\n",
        "    print(f\"이름: {student['이름']} (반: {student['반']}반, 국어: {student['국어']}점)\")\n",
        "\n",
        "print(f\"\\n국어 최고 성적 학생들:\")\n",
        "for _, student in max_korean_students.iterrows():\n",
        "    print(f\"이름: {student['이름']} (반: {student['반']}반, 국어: {student['국어']}점)\")\n",
        "\n",
        "# 영어 최저 및 최고 성적 학생들 출력\n",
        "print(f\"\\n영어 최저 성적 학생들:\")\n",
        "for _, student in min_english_students.iterrows():\n",
        "    print(f\"이름: {student['이름']} (반: {student['반']}반, 영어: {student['영어']}점)\")\n",
        "\n",
        "print(f\"\\n영어 최고 성적 학생들:\")\n",
        "for _, student in max_english_students.iterrows():\n",
        "    print(f\"이름: {student['이름']} (반: {student['반']}반, 영어: {student['영어']}점)\")\n",
        "\n",
        "# 수학 최저 및 최고 성적 학생들 출력\n",
        "print(f\"\\n수학 최저 성적 학생들:\")\n",
        "for _, student in min_math_students.iterrows():\n",
        "    print(f\"이름: {student['이름']} (반: {student['반']}반, 수학: {student['수학']}점)\")\n",
        "\n",
        "print(f\"\\n수학 최고 성적 학생들:\")\n",
        "for _, student in max_math_students.iterrows():\n",
        "    print(f\"이름: {student['이름']} (반: {student['반']}반, 수학: {student['수학']}점)\")\n"
      ],
      "metadata": {
        "colab": {
          "base_uri": "https://localhost:8080/"
        },
        "id": "s1QroUc0etLX",
        "outputId": "ceca1780-5997-489a-8457-ad2229126b99"
      },
      "execution_count": null,
      "outputs": [
        {
          "output_type": "stream",
          "name": "stdout",
          "text": [
            "국어 평균 성적: 47.75점\n",
            "영어 평균 성적: 51.56점\n",
            "수학 평균 성적: 49.88점\n",
            "\n",
            "국어 최저 성적 학생들:\n",
            "이름: 박영희 (반: 8반, 국어: 0점)\n",
            "이름: 이서연 (반: 0반, 국어: 0점)\n",
            "이름: 정우성 (반: 7반, 국어: 0점)\n",
            "이름: 이연희 (반: 5반, 국어: 0점)\n",
            "\n",
            "국어 최고 성적 학생들:\n",
            "이름: 김철수 (반: 9반, 국어: 98점)\n",
            "\n",
            "영어 최저 성적 학생들:\n",
            "이름: 한가인 (반: 6반, 영어: 3점)\n",
            "\n",
            "영어 최고 성적 학생들:\n",
            "이름: 홍길동 (반: 2반, 영어: 100점)\n",
            "이름: 박영희 (반: 8반, 영어: 100점)\n",
            "이름: 한가인 (반: 0반, 영어: 100점)\n",
            "\n",
            "수학 최저 성적 학생들:\n",
            "이름: 이서연 (반: 5반, 수학: 0점)\n",
            "\n",
            "수학 최고 성적 학생들:\n",
            "이름: 홍길동 (반: 6반, 수학: 100점)\n"
          ]
        }
      ]
    },
    {
      "cell_type": "code",
      "source": [
        "import pandas as pd\n",
        "\n",
        "# 엑셀 파일에서 데이터 읽기\n",
        "df = pd.read_excel('학생성적_등수.xlsx', sheet_name='Sheet1')\n",
        "\n",
        "# 각 반별로 과목별 평균 계산\n",
        "score_mean_by_class = df.groupby('반')[['국어', '영어', '수학']].mean()\n",
        "\n",
        "# 각 열에 대해 소수점 두 자리로 포맷하기 위해 map 사용\n",
        "score_mean_by_class = score_mean_by_class.apply(lambda x: x.map(lambda y: f\"{y:.2f}\"))\n",
        "\n",
        "# 결과 출력\n",
        "print(score_mean_by_class)"
      ],
      "metadata": {
        "colab": {
          "base_uri": "https://localhost:8080/"
        },
        "id": "4uf-ppE8jilE",
        "outputId": "341562db-b903-4bd6-fd7d-4b589c07e27b"
      },
      "execution_count": null,
      "outputs": [
        {
          "output_type": "stream",
          "name": "stdout",
          "text": [
            "       국어     영어     수학\n",
            "반                      \n",
            "0   39.30  59.00  56.90\n",
            "1   56.47  38.13  50.00\n",
            "2   40.70  56.80  55.00\n",
            "3   27.33  44.67  43.00\n",
            "4   39.58  49.58  52.08\n",
            "5   38.75  39.88  22.00\n",
            "6   47.14  51.29  62.14\n",
            "7   27.50  78.50  44.00\n",
            "8   60.86  62.43  47.29\n",
            "9   63.64  48.93  54.64\n",
            "10  56.12  53.25  49.25\n"
          ]
        }
      ]
    },
    {
      "cell_type": "code",
      "source": [],
      "metadata": {
        "id": "BpkLRDnNjjDE"
      },
      "execution_count": null,
      "outputs": []
    }
  ]
}