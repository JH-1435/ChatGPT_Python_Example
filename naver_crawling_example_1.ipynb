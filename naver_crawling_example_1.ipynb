{
  "nbformat": 4,
  "nbformat_minor": 0,
  "metadata": {
    "colab": {
      "provenance": [],
      "authorship_tag": "ABX9TyMP5i6lP0EVwRBAzdv2MnfW",
      "include_colab_link": true
    },
    "kernelspec": {
      "name": "python3",
      "display_name": "Python 3"
    },
    "language_info": {
      "name": "python"
    }
  },
  "cells": [
    {
      "cell_type": "markdown",
      "metadata": {
        "id": "view-in-github",
        "colab_type": "text"
      },
      "source": [
        "<a href=\"https://colab.research.google.com/github/JH-1435/ChatGPT_Python_Example/blob/master/naver_crawling_example_1.ipynb\" target=\"_parent\"><img src=\"https://colab.research.google.com/assets/colab-badge.svg\" alt=\"Open In Colab\"/></a>"
      ]
    },
    {
      "cell_type": "code",
      "execution_count": null,
      "metadata": {
        "colab": {
          "base_uri": "https://localhost:8080/"
        },
        "id": "Bs_etNMZkG8J",
        "outputId": "c3c6ad46-0b98-4e11-8438-346733a5e8da"
      },
      "outputs": [
        {
          "output_type": "stream",
          "name": "stdout",
          "text": [
            "✅ naver_news_title.csv 파일이 생성되었습니다.\n"
          ]
        }
      ],
      "source": [
        "import requests\n",
        "import csv\n",
        "from bs4 import BeautifulSoup\n",
        "\n",
        "# 검색할 URL (ChatGPT 관련 뉴스)\n",
        "url = \"https://search.naver.com/search.naver?ssc=tab.news.all&where=news&sm=tab_jum&query=chatgpt\"\n",
        "\n",
        "# User-Agent 설정 (네이버는 봇 차단이 있으므로 브라우저처럼 요청)\n",
        "headers = {\n",
        "    \"User-Agent\": \"Mozilla/5.0 (Windows NT 10.0; Win64; x64) AppleWebKit/537.36 (KHTML, like Gecko) Chrome/120.0.0.0 Safari/537.36\"\n",
        "}\n",
        "\n",
        "# 페이지 요청\n",
        "response = requests.get(url, headers=headers)\n",
        "\n",
        "# 응답 확인\n",
        "if response.status_code == 200:\n",
        "    soup = BeautifulSoup(response.text, \"html.parser\")\n",
        "\n",
        "    # 뉴스 제목 찾기 (a 태그 + class='news_tit')\n",
        "    titles = soup.select(\"a.news_tit\")\n",
        "\n",
        "    # CSV 파일 저장\n",
        "    filename = \"naver_news_title.csv\"\n",
        "    with open(filename, mode=\"w\", newline=\"\", encoding=\"utf-8-sig\") as file:\n",
        "        writer = csv.writer(file)\n",
        "        writer.writerow([\"번호\", \"제목\", \"링크\"])  # CSV 헤더 작성\n",
        "\n",
        "        for idx, title in enumerate(titles, 1):\n",
        "            writer.writerow([idx, title.get_text(), title[\"href\"]])\n",
        "\n",
        "    print(f\"✅ {filename} 파일이 생성되었습니다.\")\n",
        "\n",
        "else:\n",
        "    print(\"페이지 요청 실패:\", response.status_code)\n"
      ]
    },
    {
      "cell_type": "code",
      "source": [],
      "metadata": {
        "id": "GWDnIdO4ky_p"
      },
      "execution_count": null,
      "outputs": []
    }
  ]
}