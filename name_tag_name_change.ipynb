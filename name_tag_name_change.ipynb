{
  "nbformat": 4,
  "nbformat_minor": 0,
  "metadata": {
    "colab": {
      "provenance": [],
      "authorship_tag": "ABX9TyNO2CQpLKfMwtvvfEyxI7Jv",
      "include_colab_link": true
    },
    "kernelspec": {
      "name": "python3",
      "display_name": "Python 3"
    },
    "language_info": {
      "name": "python"
    }
  },
  "cells": [
    {
      "cell_type": "markdown",
      "metadata": {
        "id": "view-in-github",
        "colab_type": "text"
      },
      "source": [
        "<a href=\"https://colab.research.google.com/github/JH-1435/ChatGPT_Python_Example/blob/master/name_tag_name_change.ipynb\" target=\"_parent\"><img src=\"https://colab.research.google.com/assets/colab-badge.svg\" alt=\"Open In Colab\"/></a>"
      ]
    },
    {
      "cell_type": "code",
      "execution_count": null,
      "metadata": {
        "colab": {
          "base_uri": "https://localhost:8080/"
        },
        "id": "GwnvL6w5xoHm",
        "outputId": "a8d0a12f-fa78-42a1-a69a-1ff91ae6aced"
      },
      "outputs": [
        {
          "output_type": "stream",
          "name": "stdout",
          "text": [
            "Requirement already satisfied: python-pptx in /usr/local/lib/python3.11/dist-packages (1.0.2)\n",
            "Requirement already satisfied: Pillow>=3.3.2 in /usr/local/lib/python3.11/dist-packages (from python-pptx) (11.1.0)\n",
            "Requirement already satisfied: XlsxWriter>=0.5.7 in /usr/local/lib/python3.11/dist-packages (from python-pptx) (3.2.2)\n",
            "Requirement already satisfied: lxml>=3.1.0 in /usr/local/lib/python3.11/dist-packages (from python-pptx) (5.3.0)\n",
            "Requirement already satisfied: typing-extensions>=4.9.0 in /usr/local/lib/python3.11/dist-packages (from python-pptx) (4.12.2)\n"
          ]
        }
      ],
      "source": [
        "pip install python-pptx"
      ]
    },
    {
      "cell_type": "markdown",
      "source": [],
      "metadata": {
        "id": "TvtOQCYGxt-T"
      }
    },
    {
      "cell_type": "code",
      "source": [
        "from pptx import Presentation\n",
        "import random\n",
        "import csv\n",
        "\n",
        "# 랜덤 성과 이름 리스트 정의\n",
        "last_names = ['김', '이', '박', '최', '정', '강', '조', '윤', '장', '임', '한', '오', '서', '신', '권']\n",
        "first_names = ['철수', '민지', '준호', '영희', '하율', '서연', '지훈', '우빈', '정민', '하린', '지우', '태연', '시우', '다은']\n",
        "\n",
        "# 랜덤 3글자 이름 생성 함수\n",
        "def generate_random_name():\n",
        "    last_name = random.choice(last_names)  # 성 (1글자)\n",
        "    first_name = random.choice(first_names)  # 이름 (2글자)\n",
        "    return last_name + first_name  # 성 + 이름 결합하여 3글자 이름 생성\n",
        "\n",
        "# PPT 파일 열기\n",
        "ppt = Presentation('name_tag_template.pptx')\n",
        "\n",
        "# 생성된 이름들을 저장할 리스트\n",
        "names = []\n",
        "\n",
        "# 각 슬라이드에서 텍스트 교체\n",
        "for slide in ppt.slides:\n",
        "    for shape in slide.shapes:\n",
        "        if hasattr(shape, \"text\"):  # 텍스트가 있는 shape만 처리\n",
        "            if '홍길동' in shape.text:\n",
        "                new_name = generate_random_name()  # 랜덤 3글자 이름 생성\n",
        "                names.append(new_name)  # 생성된 이름 저장\n",
        "                # 텍스트를 교체하려면 text_frame을 사용하여 텍스트 수정\n",
        "                for paragraph in shape.text_frame.paragraphs:\n",
        "                    for run in paragraph.runs:\n",
        "                        if '홍길동' in run.text:\n",
        "                            run.text = run.text.replace('홍길동', new_name)  # 텍스트 교체\n",
        "\n",
        "# 변경된 PPT 파일 저장\n",
        "ppt.save('name_tag_template_modified.pptx')\n",
        "\n",
        "# 생성된 이름들을 CSV 파일로 저장 (utf-8-sig 인코딩 사용)\n",
        "with open('names.csv', 'w', newline='', encoding='utf-8-sig') as file:\n",
        "    writer = csv.writer(file)\n",
        "    writer.writerow([\"이름\"])  # CSV 파일에 헤더 추가\n",
        "    for name in names:\n",
        "        writer.writerow([name])  # 생성된 이름들을 CSV 파일에 기록\n",
        "\n",
        "print(\"name_tag_template_modified.pptx 파일이 생성되었습니다.\")\n",
        "print(\"names.csv 파일이 생성되었습니다.\")\n"
      ],
      "metadata": {
        "colab": {
          "base_uri": "https://localhost:8080/"
        },
        "id": "cFeEve9DyeLG",
        "outputId": "f0aabf6d-7b12-46e4-cb01-da1176ae9b60"
      },
      "execution_count": null,
      "outputs": [
        {
          "output_type": "stream",
          "name": "stdout",
          "text": [
            "name_tag_template_modified.pptx 파일이 생성되었습니다.\n",
            "names.csv 파일이 생성되었습니다.\n"
          ]
        }
      ]
    },
    {
      "cell_type": "code",
      "source": [],
      "metadata": {
        "id": "jFtv-uqD0L1T"
      },
      "execution_count": null,
      "outputs": []
    }
  ]
}